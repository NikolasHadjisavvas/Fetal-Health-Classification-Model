{
  "nbformat": 4,
  "nbformat_minor": 0,
  "metadata": {
    "colab": {
      "provenance": [],
      "authorship_tag": "ABX9TyOzdP86q9yVEhDgnMEmV9mU"
    },
    "kernelspec": {
      "name": "python3",
      "display_name": "Python 3"
    },
    "language_info": {
      "name": "python"
    }
  },
  "cells": [
    {
      "cell_type": "code",
      "execution_count": 1,
      "metadata": {
        "id": "XKew9Kq_Op2p"
      },
      "outputs": [],
      "source": [
        "import pandas as pd\n",
        "\n",
        "# Read the data\n",
        "#data = pd.read_csv('../input/melbourne-housing-snapshot/melb_data.csv')\n",
        "\n",
        "# Select subset of predictors, or not if we use everything.\n",
        "#cols_to_use = ['Rooms', 'Distance', 'Landsize', 'BuildingArea', 'YearBuilt']\n",
        "#X = data[cols_to_use]\n",
        "\n",
        "# Select target\n",
        "#y = data.<Target_Column_Name>"
      ]
    },
    {
      "cell_type": "code",
      "source": [],
      "metadata": {
        "id": "aP-efqC8PKkw"
      },
      "execution_count": null,
      "outputs": []
    }
  ]
}