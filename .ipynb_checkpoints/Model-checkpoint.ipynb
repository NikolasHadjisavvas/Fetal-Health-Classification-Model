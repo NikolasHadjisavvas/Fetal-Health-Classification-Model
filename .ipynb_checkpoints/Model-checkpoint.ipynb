{
 "cells": [
  {
   "cell_type": "code",
   "execution_count": 1,
   "id": "951368b5",
   "metadata": {},
   "outputs": [
    {
     "data": {
      "text/plain": [
       "'# Set up code checking\\nimport os\\nif not os.path.exists(\"../input/train.csv\"):\\n    os.symlink(\"../input/home-data-for-ml-course/train.csv\", \"../input/train.csv\")  \\n    os.symlink(\"../input/home-data-for-ml-course/test.csv\", \"../input/test.csv\") \\nfrom learntools.core import binder\\nbinder.bind(globals())\\nfrom learntools.ml_intermediate.ex6 import *\\nprint(\"Setup Complete\")'"
      ]
     },
     "execution_count": 1,
     "metadata": {},
     "output_type": "execute_result"
    }
   ],
   "source": [
    "\"\"\"# Set up code checking\n",
    "import os\n",
    "if not os.path.exists(\"../input/train.csv\"):\n",
    "    os.symlink(\"../input/home-data-for-ml-course/train.csv\", \"../input/train.csv\")  \n",
    "    os.symlink(\"../input/home-data-for-ml-course/test.csv\", \"../input/test.csv\") \n",
    "from learntools.core import binder\n",
    "binder.bind(globals())\n",
    "from learntools.ml_intermediate.ex6 import *\n",
    "print(\"Setup Complete\")\"\"\""
   ]
  },
  {
   "cell_type": "markdown",
   "id": "df616364",
   "metadata": {},
   "source": [
    "Load the data"
   ]
  },
  {
   "cell_type": "code",
   "execution_count": null,
   "id": "6fc5a6f1",
   "metadata": {},
   "outputs": [],
   "source": [
    "import pandas as pd\n",
    "from sklearn.model_selection import train_test_split\n",
    "\n",
    "# Read the data\n",
    "X = pd.read_csv('../input/train.csv', index_col='Id')\n",
    "X_test_full = pd.read_csv('../input/test.csv', index_col='Id')"
   ]
  },
  {
   "cell_type": "markdown",
   "id": "3f164915",
   "metadata": {},
   "source": [
    "Select the prediction target, remove the rows with missing target"
   ]
  },
  {
   "cell_type": "code",
   "execution_count": null,
   "id": "7ee908df",
   "metadata": {},
   "outputs": [],
   "source": [
    "# Remove rows with missing target, separate target from predictors\n",
    "X.dropna(axis=0, subset=['SalePrice'], inplace=True)\n",
    "y = X.SalePrice              \n",
    "X.drop(['SalePrice'], axis=1, inplace=True)"
   ]
  },
  {
   "cell_type": "markdown",
   "id": "96e1bdf2",
   "metadata": {},
   "source": [
    "Break off validation set from training data"
   ]
  },
  {
   "cell_type": "code",
   "execution_count": null,
   "id": "7640b982",
   "metadata": {},
   "outputs": [],
   "source": [
    "# Break off validation set from training data\n",
    "X_train_full, X_valid_full, y_train, y_valid = train_test_split(X, y, train_size=0.8, test_size=0.2,\n",
    "                                                                random_state=0)"
   ]
  }
 ],
 "metadata": {
  "kernelspec": {
   "display_name": "Python 3 (ipykernel)",
   "language": "python",
   "name": "python3"
  },
  "language_info": {
   "codemirror_mode": {
    "name": "ipython",
    "version": 3
   },
   "file_extension": ".py",
   "mimetype": "text/x-python",
   "name": "python",
   "nbconvert_exporter": "python",
   "pygments_lexer": "ipython3",
   "version": "3.9.7"
  }
 },
 "nbformat": 4,
 "nbformat_minor": 5
}
