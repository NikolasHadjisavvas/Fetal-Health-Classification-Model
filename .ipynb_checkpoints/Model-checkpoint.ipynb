{
 "cells": [
  {
   "cell_type": "code",
   "execution_count": 18,
   "id": "4727548a",
   "metadata": {},
   "outputs": [],
   "source": [
    "# Import algorithms\n",
    "from sklearn.ensemble import RandomForestClassifier\n",
    "from sklearn.tree import DecisionTreeClassifier\n",
    "from sklearn.naive_bayes import GaussianNB\n",
    "from sklearn.gaussian_process import GaussianProcessClassifier\n",
    "from xgboost import XGBClassifier\n",
    "\n",
    "# Import validation \n",
    "from sklearn.model_selection import cross_val_score\n",
    "from sklearn.metrics import classification_report, accuracy_score, recall_score, precision_score, f1_score,confusion_matrix, mean_absolute_error , r2_score , mean_squared_error, mean_absolute_percentage_error\n",
    "from sklearn.metrics import precision_recall_fscore_support\n",
    "\n",
    "# Import other \n",
    "from sklearn.pipeline import Pipeline\n",
    "from sklearn import preprocessing\n",
    "\n",
    "from ipynb.fs.full.DataVis import select_features;"
   ]
  },
  {
   "cell_type": "markdown",
   "id": "df616364",
   "metadata": {},
   "source": [
    "Load the data"
   ]
  },
  {
   "cell_type": "code",
   "execution_count": 19,
   "id": "6fc5a6f1",
   "metadata": {},
   "outputs": [],
   "source": [
    "import pandas as pd\n",
    "from sklearn.model_selection import train_test_split\n",
    "\n",
    "# Read the data\n",
    "X = pd.read_csv('./Data/fetal_health.csv')"
   ]
  },
  {
   "cell_type": "markdown",
   "id": "3f164915",
   "metadata": {},
   "source": [
    "Select the prediction target, remove the rows with missing target"
   ]
  },
  {
   "cell_type": "code",
   "execution_count": 20,
   "id": "7ee908df",
   "metadata": {},
   "outputs": [],
   "source": [
    "# Remove rows with missing target, separate target from predictors\n",
    "y = X.fetal_health              \n",
    "X.drop(['fetal_health'], axis=1, inplace=True)"
   ]
  },
  {
   "cell_type": "markdown",
   "id": "96e1bdf2",
   "metadata": {},
   "source": [
    "Break off validation set from training data"
   ]
  },
  {
   "cell_type": "markdown",
   "id": "f188a3a2",
   "metadata": {},
   "source": [
    "### Create baseline models\n",
    "No preprocessing, normalisation, etc."
   ]
  },
  {
   "cell_type": "code",
   "execution_count": 21,
   "id": "77b3c114",
   "metadata": {},
   "outputs": [],
   "source": [
    "X_train, X_test, y_train, y_test = train_test_split(X, y)"
   ]
  },
  {
   "cell_type": "code",
   "execution_count": 22,
   "id": "7eddc9e8",
   "metadata": {},
   "outputs": [],
   "source": [
    "def score_base_model(xtrain, ytrain, ytest,model):\n",
    "    model.fit(xtrain, ytrain)\n",
    "    y_preds = model.predict(X_test)\n",
    "    base_score = accuracy_score(ytest, y_preds)\n",
    "    return base_score.mean()"
   ]
  },
  {
   "cell_type": "code",
   "execution_count": 23,
   "id": "d0f781ab",
   "metadata": {},
   "outputs": [],
   "source": [
    "from sklearn.preprocessing import LabelEncoder\n",
    "from sklearn.gaussian_process.kernels import RBF\n",
    "\n",
    "baseline_model_rf = RandomForestClassifier(random_state=0)\n",
    "\n",
    "le = LabelEncoder()\n",
    "y_train_xgb = y_train.copy()\n",
    "y_test_xgb = y_test.copy()\n",
    "y_train_xgb = le.fit_transform(y_train_xgb)\n",
    "y_test_xgb = le.fit_transform(y_test_xgb)\n",
    "baseline_model_XGboost = XGBClassifier(n_estimators=1000, learning_rate=0.05, n_jobs=4)\n",
    "\n",
    "baseline_model_GaussianNB = GaussianNB()\n",
    "\n",
    "baseline_GaussianNB_score = score_base_model(X_train,y_train,y_test, baseline_model_GaussianNB)\n",
    "baseline_rf_score = score_base_model(X_train,y_train,y_test,baseline_model_rf)\n",
    "baseline_XGboost_score = score_base_model(X_train,y_train_xgb,y_test_xgb,baseline_model_XGboost)"
   ]
  },
  {
   "cell_type": "code",
   "execution_count": 24,
   "id": "47db0e2f",
   "metadata": {},
   "outputs": [
    {
     "name": "stdout",
     "output_type": "stream",
     "text": [
      "Random Forest model accuracy: 94.0%\n",
      "XG boost model accuracy: 95.0%\n",
      "Gaussian NB model accuracy: 82.0%\n"
     ]
    }
   ],
   "source": [
    "print(\"Random Forest model accuracy: {}%\".format((baseline_rf_score*100).round()))\n",
    "print(\"XG boost model accuracy: {}%\".format((baseline_XGboost_score*100).round()))\n",
    "print(\"Gaussian NB model accuracy: {}%\".format((baseline_GaussianNB_score*100).round()))"
   ]
  },
  {
   "cell_type": "markdown",
   "id": "cb3e209f",
   "metadata": {},
   "source": [
    "### Models using different feature selection methods"
   ]
  },
  {
   "cell_type": "code",
   "execution_count": 25,
   "id": "1dd2e09a",
   "metadata": {},
   "outputs": [],
   "source": [
    "X_model_1, fs = select_features(X.copy(), y, method=\"KBest\")\n",
    "\n",
    "X_model_1_train, X_model_1_test, y_model_1_train, y_model_1_test = train_test_split(X_model_1, y)\n",
    "\n",
    "le = LabelEncoder()\n",
    "y_train_xgb = le.fit_transform(y_model_1_train)\n",
    "y_test_xgb = le.fit_transform(y_model_1_test)\n",
    "model_1_xgb = XGBClassifier(n_estimators=1000,learning_rate=0.05,n_jobs=4)\n",
    "model_1_xgb.fit(X_model_1_train,y_train_xgb)\n",
    "predictions_xgb = model_1_rf.predict(X_model_1_test)\n",
    "score_model_1_xgb = accuracy_score(y_test_xgb, predictions_xgb)"
   ]
  },
  {
   "cell_type": "code",
   "execution_count": 26,
   "id": "7675a5f0",
   "metadata": {},
   "outputs": [
    {
     "name": "stdout",
     "output_type": "stream",
     "text": [
      "0.005639097744360902\n"
     ]
    }
   ],
   "source": [
    "print(score_model_1_xgb)"
   ]
  },
  {
   "cell_type": "code",
   "execution_count": 10,
   "id": "742fb703",
   "metadata": {},
   "outputs": [
    {
     "data": {
      "text/plain": [
       "(2126, 18)"
      ]
     },
     "execution_count": 10,
     "metadata": {},
     "output_type": "execute_result"
    }
   ],
   "source": [
    "X_model_1.shape"
   ]
  },
  {
   "cell_type": "code",
   "execution_count": null,
   "id": "b0ef0809",
   "metadata": {},
   "outputs": [],
   "source": []
  }
 ],
 "metadata": {
  "kernelspec": {
   "display_name": "Python 3 (ipykernel)",
   "language": "python",
   "name": "python3"
  },
  "language_info": {
   "codemirror_mode": {
    "name": "ipython",
    "version": 3
   },
   "file_extension": ".py",
   "mimetype": "text/x-python",
   "name": "python",
   "nbconvert_exporter": "python",
   "pygments_lexer": "ipython3",
   "version": "3.9.7"
  }
 },
 "nbformat": 4,
 "nbformat_minor": 5
}
